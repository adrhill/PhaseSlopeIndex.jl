{
 "cells": [
  {
   "cell_type": "markdown",
   "metadata": {},
   "source": [
    "# Phase Slope Index method"
   ]
  },
  {
   "cell_type": "markdown",
   "metadata": {},
   "source": [
    "### Purpose\n",
    "This is a walk-through notebook on *Robustly Estimating the Flow Direction of Information in Complex Physical Systems* paper, by *Guido Nolte, Andreas Ziehe, Vadim V. Nikulin, Alois Schlögl, Nicole Krämer, Tom Brismar, and Klaus-Robert Müller*, implementated in Julia-Language (please see http://doc.ml.tu-berlin.de/causality/ and [Nolte et al. 2008](http://link.aps.org/abstract/PRL/v100/e234101)).\n",
    "\n",
    "### Acknowledgement\n",
    "This work was funded by the German Federal Ministry of Education and Research [(BMBF)](https://www.bmbf.de/) in the project ALICE III under grant ref. 01IS18049B."
   ]
  },
  {
   "cell_type": "markdown",
   "metadata": {},
   "source": [
    "## Setting up Julia Env."
   ]
  },
  {
   "cell_type": "code",
   "execution_count": null,
   "metadata": {},
   "outputs": [],
   "source": [
    "# Add packages\n",
    "# import Pkg\n",
    "# Pkg.add(\"FFTW\")\n",
    "# Pkg.add(\"DSP\")\n",
    "# Pkg.add(\"Plots\")\n",
    "# Pkg.add(\"MAT\")\n",
    "# Pkg.add(\"Einsum\")\n",
    "\n",
    "# imports for PSI\n",
    "using Statistics: mean, std\n",
    "using FFTW: fft!\n",
    "using DSP: hanning\n",
    "using Einsum\n",
    "\n",
    "# imports for notebook\n",
    "using Random: randperm\n",
    "using MAT: matread\n",
    "using Plots: plot, heatmap, cgrad\n",
    ";"
   ]
  },
  {
   "cell_type": "markdown",
   "metadata": {},
   "source": [
    "## Data\n",
    "`mixed_data` four channcels, where:\n",
    "- channels 1 and 2 are i.i.d. uniform [0, 1] noise\n",
    "- channel 3 is delayed (by 1 sample) channel 1\n",
    "- channel 4 is delayed (by 16 samples) channel 1 plus i.i.d. uniform [0, 0.2] noise \n"
   ]
  },
  {
   "cell_type": "code",
   "execution_count": null,
   "metadata": {},
   "outputs": [],
   "source": [
    "# data generation\n",
    "n_channels = 4  # number of channels\n",
    "n_samples = 65536  # = 2^16 number of data points measured in each channel\n",
    "fs = 128  # sampling frequency\n",
    "time_array = Array(range(1, step=1/fs, length=n_samples))\n",
    "\n",
    "# mixed data\n",
    "rand_data = randn(Float64, (n_samples+16, 1)) # \n",
    "cause_source = rand_data[16:n_samples+15]  # channel 1\n",
    "random_source = randn(Float64, n_samples)  # channel 2\n",
    "effect_source = rand_data[15:n_samples+14]  #channel 3\n",
    "weak_effect = rand_data[1:n_samples] .- (randn(Float64, (n_samples, 1)) ./ 5)\n",
    "mixed_data = hcat(cause_source, random_source, effect_source, weak_effect)\n",
    "\n",
    "\n",
    "p1 = plot(time_array[1:64], mixed_data[1:64, :],\n",
    "         title = \"Mixed data\",\n",
    "         label = [\"Cause\" \"Random\" \"Effect\" \"noisy Effect\"],\n",
    "         linecolor = [\"red\" \"green\" \"blue\" \"magenta\"])\n",
    "\n",
    "plot(p1, layout=(1, 1), size=(800, 450))\n"
   ]
  },
  {
   "cell_type": "markdown",
   "metadata": {},
   "source": [
    "## PSI"
   ]
  },
  {
   "cell_type": "code",
   "execution_count": null,
   "metadata": {},
   "outputs": [],
   "source": [
    "# include(\"../src/PhaseSlopeIndex.jl\")\n",
    "using PhaseSlopeIndex"
   ]
  },
  {
   "cell_type": "code",
   "execution_count": null,
   "metadata": {},
   "outputs": [],
   "source": [
    "? data2psi"
   ]
  },
  {
   "cell_type": "code",
   "execution_count": null,
   "metadata": {},
   "outputs": [],
   "source": [
    "seglen = 128  # segment length\n",
    "segshift = 0  # slide (shift) length\n",
    "eplen = 256  # epoch length\n",
    "method = \"bootstrap\"  # resampling method of estimation\n",
    "nboot = 100  # number of bootstrap resampling epochs\n",
    "\n",
    "@time psi, psi_se, psi_normed = data2psi(mixed_data, seglen,\n",
    "                                         eplen=eplen, method=method, nboot=nboot)\n",
    ";"
   ]
  },
  {
   "cell_type": "code",
   "execution_count": null,
   "metadata": {},
   "outputs": [],
   "source": [
    "p1 = heatmap(psi, ticks=false, yflip = true,\n",
    "             yticks=([1, 2, 3, 4], [\"Ch1\", \"Ch2\", \"Ch3\", \"Ch4\"]),\n",
    "             xticks=([1, 2, 3, 4], [\"Ch1\", \"Ch2\", \"Ch3\", \"Ch4\"]),\n",
    "             color=cgrad([:blue, :green, :red]), title=\"Phase Slope Index\")\n",
    "\n",
    "p2 = heatmap(psi_se, ticks=false, yflip = true,\n",
    "             yticks=([1, 2, 3, 4], [\"Ch1\", \"Ch2\", \"Ch3\", \"Ch4\"]),\n",
    "             xticks=([1, 2, 3, 4], [\"Ch1\", \"Ch2\", \"Ch3\", \"Ch4\"]),\n",
    "             color=cgrad([:blue, :green, :red]), title=\"PSI standard error\")\n",
    "\n",
    "plot(p1, p2, layout=(1, 2), size=(750, 300))"
   ]
  },
  {
   "cell_type": "code",
   "execution_count": null,
   "metadata": {},
   "outputs": [],
   "source": []
  }
 ],
 "metadata": {
  "kernelspec": {
   "display_name": "Julia 1.5.3",
   "language": "julia",
   "name": "julia-1.5"
  },
  "language_info": {
   "file_extension": ".jl",
   "mimetype": "application/julia",
   "name": "julia",
   "version": "1.5.3"
  }
 },
 "nbformat": 4,
 "nbformat_minor": 4
}
